{
 "cells": [
  {
   "cell_type": "code",
   "execution_count": null,
   "source": [
    "import numpy as np\n",
    "import matplotlib.pyplot as plt\n",
    "%matplotlib inline\n",
    "\n",
    "iterations = 0\n",
    "tolerance = 1e-14\n",
    "alpha = 0.1\n",
    "\n",
    "ut = u0 = 1.0\n",
    "vt = v0 = 1.0\n",
    "\n",
    "uv = lambda u, v: (u * np.exp(v) - 2 * v * np.exp(-u))**2 # Error function at time t\n",
    "\n",
    "d_u = lambda u, v: (2 * (np.exp(v) + 2 * v * np.exp(-u)) * \n",
    "                     (u *  np.exp(v) - 2 * v * np.exp(-u))) # Gradient function of u at time t\n",
    "\n",
    "d_v = lambda u, v: (2 * (u * np.exp(v) - 2 * np.exp(-u)) * \n",
    "                     (u *  np.exp(v) - 2 * v * np.exp(-u))) # Gradient function of u at time t\n",
    "\n",
    "uv_t = uv(u0, v0) # initialize error function\n",
    "\n",
    "while uv_t >= tolerance: # while error is greater than tolerance\n",
    "    \n",
    "    ut1 = ut - alpha  * d_u(ut, vt) # compute u at t + 1\n",
    "    vt1 = vt - alpha  * d_v(ut, vt) # compute v at t + 1\n",
    "\n",
    "    ut = ut1 # u of t + 1 now becomes u of t\n",
    "    vt = vt1 # v of t + 1 now becomes v of t\n",
    "\n",
    "    uv_t = uv(ut1, vt1) # compute new error\n",
    "    \n",
    "    iterations += 1\n",
    "    \n",
    "print(\"Iterations: \",iterations)\n",
    "print(\"(u, v) =({}, {})\".format(round(ut, 3), round(vt, 3)))"
   ],
   "outputs": [
    {
     "output_type": "stream",
     "name": "stdout",
     "text": [
      "Iterations:  10\n",
      "(u, v) =(0.045, 0.024)\n"
     ]
    }
   ],
   "metadata": {}
  },
  {
   "cell_type": "code",
   "execution_count": 4,
   "source": [
    "iterations = 15\n",
    "tolerance = 1e-14\n",
    "eta = 0.1\n",
    "\n",
    "u_t = u_0 = 1.0\n",
    "v_t = v_0 = 1.0\n",
    "\n",
    "E_uv = lambda u, v: (u * np.exp(v) - 2 * v * np.exp(-u))**2 # Error function at time t\n",
    "\n",
    "dE_u = lambda u, v: (2 * (np.exp(v) + 2 * v * np.exp(-u)) * \n",
    "                     (u *  np.exp(v) - 2 * v * np.exp(-u))) # Gradient function of u at time t\n",
    "\n",
    "dE_v = lambda u, v: (2 * (u * np.exp(v) - 2 * np.exp(-u)) * \n",
    "                     (u *  np.exp(v) - 2 * v * np.exp(-u))) # Gradient function of u at time t\n",
    "\n",
    "E_uv_t = E_uv(u_0, v_0) # initialize error function\n",
    "\n",
    "for iteration in range(iterations): # while error is greater than tolerance\n",
    "    \n",
    "    # we switch a few lines of code to implement coordinate descent\n",
    "    \n",
    "    # now what we'll do here is calculate u at t + 1 and plug into dE/dv\n",
    "    u_t1 = u_t - eta * dE_u(u_t, v_t) # compute u at t + 1\n",
    "    u_t = u_t1 # u of t + 1 now becomes u of t\n",
    "    \n",
    "    # now what we'll do here is calculate v at t + 1 and plug into dE/du\n",
    "    v_t1 = v_t - eta * dE_v(u_t, v_t) # compute v at t + 1\n",
    "    v_t = v_t1 # v of t + 1 now becomes v of t\n",
    "\n",
    "    E_uv_t = E_uv(u_t1, v_t1) # compute new error\n",
    "    \n",
    "  \n",
    "print(\"E(u, v) be closest to {:01.0e} after 15 full iterations\".format(E_uv_t))"
   ],
   "outputs": [
    {
     "output_type": "stream",
     "name": "stdout",
     "text": [
      "E(u, v) be closest to 1e-01 after 15 full iterations\n"
     ]
    }
   ],
   "metadata": {}
  },
  {
   "cell_type": "code",
   "execution_count": null,
   "source": [],
   "outputs": [],
   "metadata": {}
  }
 ],
 "metadata": {
  "kernelspec": {
   "name": "python3",
   "display_name": "Python 3.9.7 64-bit"
  },
  "language_info": {
   "codemirror_mode": {
    "name": "ipython",
    "version": 3
   },
   "file_extension": ".py",
   "mimetype": "text/x-python",
   "name": "python",
   "nbconvert_exporter": "python",
   "pygments_lexer": "ipython3",
   "version": "3.9.7"
  },
  "interpreter": {
   "hash": "b0fa6594d8f4cbf19f97940f81e996739fb7646882a419484c72d19e05852a7e"
  }
 },
 "nbformat": 4,
 "nbformat_minor": 5
}